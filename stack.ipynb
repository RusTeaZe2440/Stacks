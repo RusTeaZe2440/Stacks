{
 "cells": [
  {
   "cell_type": "code",
   "execution_count": 2,
   "metadata": {},
   "outputs": [],
   "source": [
    "class Node:\n",
    "    def __init__(self,val) -> None:\n",
    "        self.val = val\n",
    "        self.next = None"
   ]
  },
  {
   "cell_type": "code",
   "execution_count": 3,
   "metadata": {},
   "outputs": [],
   "source": [
    "class stack:\n",
    "    def __init__(self) -> None:\n",
    "        self.top = None\n",
    "        self.n = 0\n",
    "    \n",
    "    def __len__(self):\n",
    "        return self.n\n",
    "    \n",
    "    def push(self,value):\n",
    "        newnode = Node(value)\n",
    "        newnode.next = self.top\n",
    "        self.top = newnode\n",
    "        self.n += 1\n",
    "\n",
    "    def pop (self):\n",
    "        if self.top == None:\n",
    "            return 'Stack is Empty'\n",
    "        data = self.top.val\n",
    "        self.top = self.top.next\n",
    "        self.n -= 1\n",
    "        return data\n",
    "        \n",
    "\n",
    "    def is_empty(self):\n",
    "        return self.top == None\n",
    "    \n",
    "    def peek(self):\n",
    "        if self.top == None:\n",
    "            return 'Empty stack'\n",
    "        else:\n",
    "            return self.top.val\n",
    "        \n",
    "    def remove_duplicates(self):\n",
    "        curr = self.top\n",
    "        while curr and curr.next:\n",
    "            if curr.val == curr.next.val:\n",
    "                curr.next = curr.next.next\n",
    "                self.remove_duplicates()\n",
    "            curr = curr.next\n",
    "        \n",
    "\n",
    "    def reverese_stack(self):\n",
    "        curr = self.top\n",
    "        prev_node = None\n",
    "        while curr:\n",
    "            nextnode = curr.next\n",
    "            curr.next = prev_node\n",
    "            prev_node = curr\n",
    "            curr = nextnode\n",
    "        self.top = prev_node\n",
    "            \n",
    "    def __str__(self) -> str:\n",
    "        if self.top == None:\n",
    "            return 'Empty Stack'\n",
    "        curr = self.top\n",
    "        elements = []\n",
    "        while curr:\n",
    "            elements.append(str(curr.val))\n",
    "            curr = curr.next\n",
    "        \n",
    "        return str('|'.join(elements))\n"
   ]
  },
  {
   "cell_type": "markdown",
   "metadata": {},
   "source": [
    "###### Practice Questions"
   ]
  },
  {
   "cell_type": "code",
   "execution_count": 4,
   "metadata": {},
   "outputs": [],
   "source": [
    "## Time Complexity -> O(n) \n",
    "s = stack()\n",
    "\n",
    "def reverse_string(text):\n",
    "    res = ''\n",
    "    for i in text:\n",
    "        s.push(i)\n",
    "    while not s.is_empty():\n",
    "        res = res + s.pop()\n",
    "        \n",
    "    print(res)"
   ]
  },
  {
   "cell_type": "code",
   "execution_count": 5,
   "metadata": {},
   "outputs": [
    {
     "name": "stdout",
     "output_type": "stream",
     "text": [
      "hsevahb\n"
     ]
    }
   ],
   "source": [
    "reverse_string('bhavesh')"
   ]
  },
  {
   "cell_type": "code",
   "execution_count": 6,
   "metadata": {},
   "outputs": [],
   "source": [
    "## Undo redo Operation \n",
    "\n",
    "def Pattern_undo_redo(text,pattern):\n",
    "    u = stack()\n",
    "    r = stack()\n",
    "    for i in text:\n",
    "        u.push(i)\n",
    "    \n",
    "    for i in pattern:\n",
    "        if i == 'u':\n",
    "            data = u.pop()\n",
    "            r.push(data)\n",
    "        else:\n",
    "            data2 = r.pop()\n",
    "            u.push(data2)\n",
    "\n",
    "    result = '' \n",
    "    while  not u.is_empty():\n",
    "        result = u.pop() + result\n",
    "    \n",
    "    print(result)\n"
   ]
  },
  {
   "cell_type": "code",
   "execution_count": 7,
   "metadata": {},
   "outputs": [
    {
     "name": "stdout",
     "output_type": "stream",
     "text": [
      "bhav\n"
     ]
    }
   ],
   "source": [
    "Pattern_undo_redo('bhavesh','uurruuu')"
   ]
  },
  {
   "cell_type": "code",
   "execution_count": 8,
   "metadata": {},
   "outputs": [
    {
     "name": "stdout",
     "output_type": "stream",
     "text": [
      "50|40|30|30|30|20|20|10|10\n"
     ]
    }
   ],
   "source": [
    "a = stack()\n",
    "a.push(10)\n",
    "a.push(10)\n",
    "a.push(20)\n",
    "a.push(20)\n",
    "a.push(30)\n",
    "a.push(30)\n",
    "a.push(30)\n",
    "a.push(40)\n",
    "a.push(50)\n",
    "print(a)"
   ]
  },
  {
   "cell_type": "code",
   "execution_count": 9,
   "metadata": {},
   "outputs": [],
   "source": [
    "a.remove_duplicates()"
   ]
  },
  {
   "cell_type": "code",
   "execution_count": 10,
   "metadata": {},
   "outputs": [
    {
     "name": "stdout",
     "output_type": "stream",
     "text": [
      "50|40|30|20|10\n"
     ]
    }
   ],
   "source": [
    "print(a)"
   ]
  },
  {
   "cell_type": "code",
   "execution_count": 11,
   "metadata": {},
   "outputs": [
    {
     "name": "stdout",
     "output_type": "stream",
     "text": [
      "50|40|30|20|10\n"
     ]
    }
   ],
   "source": [
    "print(a)"
   ]
  },
  {
   "cell_type": "code",
   "execution_count": 12,
   "metadata": {},
   "outputs": [],
   "source": [
    "a.reverese_stack()"
   ]
  },
  {
   "cell_type": "code",
   "execution_count": 13,
   "metadata": {},
   "outputs": [
    {
     "name": "stdout",
     "output_type": "stream",
     "text": [
      "10|20|30|40|50\n"
     ]
    }
   ],
   "source": [
    "print(a)"
   ]
  },
  {
   "cell_type": "code",
   "execution_count": 14,
   "metadata": {},
   "outputs": [
    {
     "name": "stdout",
     "output_type": "stream",
     "text": [
      "hsevahb\n"
     ]
    }
   ],
   "source": [
    "text = 'bhavesh'\n",
    "o = stack()\n",
    "res = ''\n",
    "for i in text:\n",
    "    o.push(i)\n",
    "while not o.is_empty():\n",
    "    res = res + o.pop()\n",
    "print(res)"
   ]
  },
  {
   "cell_type": "code",
   "execution_count": 15,
   "metadata": {},
   "outputs": [
    {
     "name": "stdout",
     "output_type": "stream",
     "text": [
      "Empty Stack\n"
     ]
    }
   ],
   "source": [
    "print(o)"
   ]
  }
 ],
 "metadata": {
  "kernelspec": {
   "display_name": "base",
   "language": "python",
   "name": "python3"
  },
  "language_info": {
   "codemirror_mode": {
    "name": "ipython",
    "version": 3
   },
   "file_extension": ".py",
   "mimetype": "text/x-python",
   "name": "python",
   "nbconvert_exporter": "python",
   "pygments_lexer": "ipython3",
   "version": "3.9.13"
  }
 },
 "nbformat": 4,
 "nbformat_minor": 2
}
